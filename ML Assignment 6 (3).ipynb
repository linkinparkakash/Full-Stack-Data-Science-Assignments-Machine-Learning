{
 "cells": [
  {
   "cell_type": "markdown",
   "id": "c5e7364c-7e04-460b-b957-1ec224184e16",
   "metadata": {},
   "source": [
    "Machine Learning Assignment 6"
   ]
  },
  {
   "cell_type": "code",
   "execution_count": 1,
   "id": "9d3e4e22-3a89-4269-9dbc-bd88d6aaddf5",
   "metadata": {},
   "outputs": [],
   "source": [
    "#1. In the sense of machine learning, what is a model? What is the best way to train a model?\n",
    "\n",
    "#Ans: A Machine Learning Model is a file that has been trained to recognize certain types of patterns. You train a model over a set of data, \n",
    "#providing it an algorithm that it can use to reason over and learn from those data and give desired results or output.\n",
    "\n",
    "#Model Naming — Give Your Model a Name, describe the model and attach tags to your model to make it searchable.\n",
    "\n",
    "#Data Type Selection — Choose data type(Images/Text/CSV), It’s time to tell us about the type of data you want to train your model. \n",
    "#ML Models support Images, Text and *.CSV (categorical data) data types.\n",
    "\n",
    "#Data Upload — Upload your data or choose from Public Data Sets: Choose from public datasets like Jewellery Data set (Images),\n",
    "#Gender Data Set (Images), Question or Sentence Data Set (Text), Numerai Data Set (CSV) or upload your data.\n",
    "\n",
    "#Type category(label) for the files (images/text file) that you have uploaded and click on submit to begin upload. Wait for some time till our \n",
    "#web app uploads all the files. You can upload images for as many categories as possible.\n",
    "\n",
    "#Start Training - Push the button, to start the training. Now Mateverse’s intelligent backend will start with processing the data that you have\n",
    "#uploaded and preparing it for the training."
   ]
  },
  {
   "cell_type": "code",
   "execution_count": 2,
   "id": "954268ed-0ed9-4c0c-bc06-85c20766ebfe",
   "metadata": {},
   "outputs": [],
   "source": [
    "#2. In the sense of machine learning, explain the \"No Free Lunch\" theorem.\n",
    "\n",
    "#Ans: It states that, if we cannot make any prior assumptions about the optimization problem we are trying to solve, no strategy can be expected \n",
    "#to perform better than any other.\n",
    "\n",
    "#In Simple Words “No Free Lunch” theorem means we can’t rely on one model to be best of all models. We have to understand data properly and make\n",
    "#use of ML understanding and make use of models to find best out of it."
   ]
  },
  {
   "cell_type": "code",
   "execution_count": 3,
   "id": "1b333495-7ec0-4146-a4ea-4f9c9d5f0817",
   "metadata": {},
   "outputs": [
    {
     "data": {
      "text/plain": [
       "\"\\n3. Describe the K-fold cross-validation mechanism in detail.\\n\\nAns: K-fold Cross-Validation is when the dataset is split into a K number of folds and is used to evaluate the model's ability when given new data. K refers to the number of groups the data sample is split into. For example, if you see that the k-value is 5, we can call this a 5-fold cross-validation.\\n\\nThe general procedure is as follows:\\n\\nShuffle the dataset randomly.\\nSplit the dataset into k groups\\nFor each unique group:\\nTake the group as a hold out or test data set\\nTake the remaining groups as a training data set\\nFit a model on the training set and evaluate it on the test set\\nRetain the evaluation score and discard the model\\nSummarize the skill of the model using the sample of model evaluation scores.\\n\""
      ]
     },
     "execution_count": 3,
     "metadata": {},
     "output_type": "execute_result"
    }
   ],
   "source": [
    "\"\"\"\n",
    "3. Describe the K-fold cross-validation mechanism in detail.\n",
    "\n",
    "Ans: K-fold Cross-Validation is when the dataset is split into a K number of folds and is used to evaluate the model's ability when given new data. K refers to the number of groups the data sample is split into. For example, if you see that the k-value is 5, we can call this a 5-fold cross-validation.\n",
    "\n",
    "The general procedure is as follows:\n",
    "\n",
    "Shuffle the dataset randomly.\n",
    "Split the dataset into k groups\n",
    "For each unique group:\n",
    "Take the group as a hold out or test data set\n",
    "Take the remaining groups as a training data set\n",
    "Fit a model on the training set and evaluate it on the test set\n",
    "Retain the evaluation score and discard the model\n",
    "Summarize the skill of the model using the sample of model evaluation scores.\n",
    "\"\"\""
   ]
  },
  {
   "cell_type": "code",
   "execution_count": 5,
   "id": "d1b901b9-5795-40ff-8353-70ab82349946",
   "metadata": {},
   "outputs": [],
   "source": [
    "#4. Describe the bootstrap sampling method. What is the aim of it?\n",
    "\n",
    "#Ans: The bootstrap method is a statistical technique for estimating quantities about a population by averaging estimates from multiple small data \n",
    "#samples. Importantly, samples are constructed by drawing observations from a large data sample one at a time and returning them to the data sample \n",
    "#after they have been chosen."
   ]
  },
  {
   "cell_type": "code",
   "execution_count": 6,
   "id": "a7c170b0-6103-4fcb-bd5d-c7b8dc5bd44d",
   "metadata": {},
   "outputs": [],
   "source": [
    "#5. What is the significance of calculating the Kappa value for a classification model? Demonstrate how to measure the Kappa value of a\n",
    "#classification model using a sample collection of results.\n",
    "\n",
    "#Ans: Kappa value or Cohen's Kappa coefficient is an evaluation metric for classification models. Its significance as an evaluation metric is\n",
    "#that it can be used to evaluate multi class classification models and also works on models trained on imbalanced datasets(scores like accuracy \n",
    "#scores fail for imbalanced datasets).\n",
    "\n",
    "#In simpler words It basically tells you how much better your classifier is performing over the performance of a classifier that simply guesses at random according to the frequency of each class. Cohen's kappa is always less than or equal to 1. Values of 0 or less, indicate that the classifier \n",
    "#is useless Cohen suggested the Kappa result be interpreted as follows: values ≤ 0 as indicating no agreement and 0.01–0.20 as none to slight,\n",
    "#0.21–0.40 as fair, 0.41– 0.60 as moderate, 0.61–0.80 as substantial, and 0.81–1.00 as almost perfect agreement."
   ]
  },
  {
   "cell_type": "code",
   "execution_count": 7,
   "id": "431f1fb0-c187-497a-bf74-6cb90418031f",
   "metadata": {},
   "outputs": [],
   "source": [
    "#6. Describe the model ensemble method. In machine learning, what part does it play?\n",
    "\n",
    "#Ans: Ensemble methods or ensemble machine learning models are models where more than one models are being used spontaneously to produce \n",
    "#better results than individually trained models."
   ]
  },
  {
   "cell_type": "code",
   "execution_count": 8,
   "id": "3dd2cc33-8b03-48f4-aff4-2f5d903589f8",
   "metadata": {},
   "outputs": [],
   "source": [
    "#7. What is a descriptive model's main purpose? Give examples of real-world problems that descriptive models were used to solve.\n",
    "\n",
    "#Ans: A descriptive model is used for tasks that would benefit from the insight gained from summarizing data in new and interesting ways. \n",
    "#As opposed to predictive models that predicts a target of interest, in a descriptive model, no single feature is more important than any other. \n",
    "#In fact, because there is no target to learn, the process of training a descriptive model is called unsupervised learning.\n",
    "\n",
    "#It is used in customer classification as real life problem ."
   ]
  },
  {
   "cell_type": "code",
   "execution_count": 9,
   "id": "a5984157-2ccf-4852-8e1e-4543dac01044",
   "metadata": {},
   "outputs": [],
   "source": [
    "#8. Describe how to evaluate a linear regression model.\n",
    "\n",
    "#Ans: Evaluation of a linear regression model can be done using R-square. R square is calculated as the sum of squared errors in predictions made, divided by summation of all sum of squares. R square measures how much of the change in target variable can be explained by the linear regressor. \n",
    "#Its value ranges from 0 to 1 where 0 means poor performance and 1 means good. Some other techniques which can be used to evaluate a \n",
    "#linear regression model are:\n",
    "\n",
    "#Mean Square Error(MSE)/Root Mean Square Error(RMSE)\n",
    "#Mean Absolute Error(MAE)"
   ]
  },
  {
   "cell_type": "code",
   "execution_count": 10,
   "id": "d6f36b21-fa45-4718-a295-ae8f81a11efc",
   "metadata": {},
   "outputs": [],
   "source": [
    "#9. Distinguish :\n",
    "#Descriptive vs. predictive models\n",
    "#Underfitting vs. overfitting the model\n",
    "#Bootstrapping vs. cross-validation\n",
    "#Ans: The differences between:\n",
    "\n",
    "#Descriptive vs. predictive models\n",
    "\n",
    "#Descriptive models are built to identify trends and underlying patterns.\n",
    "#Predictive models are built to predict a dependent variable value.\n",
    "#Most of descriptive models are built using unsupervised machine learning.\n",
    "#Most of predictive models are built using classification and regression models.\n",
    "#Example for descriptive model: Finding why consumers are engaging more with a social media post.\n",
    "#Example for predictive model: Predicting the chances of cancer in a patient.\n",
    "#Underfitting vs. overfitting the model\n",
    "\n",
    "#Underfitting is a situation arising when the hypothesis is way too simple, or when the machine learning model is way too simple to produce good results.\n",
    "#Overfitting is a situation arising when the hypothesis is way too complex, or when the machine learning model is way too complex to produce good results.\n",
    "#Underfitting causes a model to produce poor results due to heavily simplified algorithm reacting lightly to changes in the unseen data for\n",
    "#independent variables from the training data.\n",
    "#Overfitting makes a model produce poor results due to slightest variations in the unseen data for independent variables from the training data\n",
    "#Underfitting is also called High Bias.\n",
    "#Overfitting is also called High variance\n",
    "#Bootstrapping vs cross-validation\n",
    "\n",
    "#Boostrap sampling is a method of sampling in which the repeated sampling is done with replacement using a data D in random draws over which \n",
    "#machine learning models are trained for better performance.\n",
    "#Cross validation is a method used to check the efficacy of the machine learning model on test data.\n",
    "#End goal of bootstrapping is to reduce overfitting and increase performance.\n",
    "#End goal of cross validation is only to produce test scores to check efficacy of model\n",
    "#Bootstrapping is best employed in Random Forest Classifier.\n",
    "#Cross Validation is best employed using K-fold cross validation technique."
   ]
  },
  {
   "cell_type": "code",
   "execution_count": 11,
   "id": "8e461830-0cf0-4e84-9cf5-98dd503f5991",
   "metadata": {},
   "outputs": [],
   "source": [
    "#10. Make quick notes on:\n",
    "#LOOCV.\n",
    "#F-measurement\n",
    "#The width of the silhouette\n",
    "#Receiver operating characteristic curve\n",
    "\n",
    "#Ans: The Quick notes on: LOOCV or Leave One Out Cross Validation is a form of K-fold cross validation where only one observation is left\n",
    "#out for validation purpose while the rest of the data is used for model training each iteration. It is computationally taxing and should\n",
    "#only be used for data with low dimensionality.\n",
    "\n",
    "#Harmonic mean of Precision score and recall score is called F-measurement or F-score. It is formulated as 2 (pr re)/pr +re where pr\n",
    "#is precision score and re is recall score.\n",
    "\n",
    "#Estimate of average inter cluster distance to give efficacy/performance of cluster algorithms is called width of the silhouette. \n",
    "#It can also be defined as how identical/similar a data point 'x' is to the data points inside the cluster to which x is assigned. \n",
    "#Its value ranges from -1 to 1 where 1 means good and -1 means bad.\n",
    "\n",
    "#Curve plotted between True Positive Rate and False Positive Rate is Receiver Operating Characteristics curve and is used to find\n",
    "#the area under the curve for ROC-AUC score for binary classification evaluation. True Positive Rate and False Positive Rate are \n",
    "#calculated for different thresholds values where thresholds take values starting from the highest probability scores assigned to \n",
    "#data points and goes up to the lowest probability score. The curve is impacted by presence of outliers, and simple models. \n",
    "#Extensions can be made to this curve to suit multiclass classification evaluation requirements."
   ]
  },
  {
   "cell_type": "code",
   "execution_count": null,
   "id": "41407ebd-3dcf-4e9d-84b5-dc6478a7f53d",
   "metadata": {},
   "outputs": [],
   "source": []
  }
 ],
 "metadata": {
  "kernelspec": {
   "display_name": "Python 3 (ipykernel)",
   "language": "python",
   "name": "python3"
  },
  "language_info": {
   "codemirror_mode": {
    "name": "ipython",
    "version": 3
   },
   "file_extension": ".py",
   "mimetype": "text/x-python",
   "name": "python",
   "nbconvert_exporter": "python",
   "pygments_lexer": "ipython3",
   "version": "3.10.6"
  }
 },
 "nbformat": 4,
 "nbformat_minor": 5
}
