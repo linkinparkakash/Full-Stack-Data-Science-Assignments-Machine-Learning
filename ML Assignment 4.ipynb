{
 "cells": [
  {
   "cell_type": "markdown",
   "id": "571bfa85-6115-4d27-b99e-8c96f11ba2a1",
   "metadata": {},
   "source": [
    "Machine Learning Assignment 4"
   ]
  },
  {
   "cell_type": "raw",
   "id": "86dcff43-e437-4094-9733-9de6b7aea89e",
   "metadata": {},
   "source": [
    "1. What are the key tasks involved in getting ready to work with machine learning modeling ?\n",
    "\n",
    "Ans: a. Data collection: Defining the problem and obtaining the dataset.\n",
    "b. Data preparation: Preparing your data and preprocess it for training.\n",
    "c. Choosing a model that is suitable for the problem statement.\n",
    "d. Training the Model: Developing a model that does better than a baseline.\n",
    "e. Evaluating the Model: Choosing a measure of success. Deciding on an evaluation protocol.\n",
    "f. Parameter tuning: Scaling up: developing a model that overfits.Regularizing your model and tuning your parameters.\n",
    "g. Prediction or Inference."
   ]
  },
  {
   "cell_type": "raw",
   "id": "a3c20518-6312-4620-836c-b9dda8858ac9",
   "metadata": {},
   "source": [
    "2. What are the different forms of data used in machine learning ? Give a specific example for each of them ?\n",
    "\n",
    "Ans: Numerical Data, Categorical Data, Time-Series Data, and Text data.\n",
    "Numerical data = The data which is in exact numbers, also known as quantitative data such as house pricing, salaries of various \n",
    "employees etc.\n",
    "\n",
    "Categorical data = The kind of data which is not mathematic, mainly used for classification tasks such as color etc.\n",
    "\n",
    "Time series data = Time series data is a sequence of numbers collected at regular intervals over some period of time.\n",
    "It is very important, especially in particular fields like finance.\n",
    "\n",
    "Text data = Text data is basically just words. A lot of the time the first thing that you do with text is you turn\n",
    "it into numbers using some interesting functions like the bag of words formulation."
   ]
  },
  {
   "cell_type": "raw",
   "id": "52f90a52-43ea-4876-97fd-819cb1de9864",
   "metadata": {},
   "source": [
    "3. Distinguish between :\n",
    "(1) Numeric vs. categorical attributes\n",
    "Numerical data are values obtained for quantitative variable, and carries a sense of magnitude related to the \n",
    "context of the variable (hence, they are always numbers or symbols carrying a numerical value).\n",
    "Numerical data are analysed using statistical methods in descriptive statistics, regression, time series and many more.\n",
    "For categorical data usually descriptive methods and graphical methods are employed. Some non-parametric tests are also used.\n",
    "\n",
    "(2) Feature selection vs. dimensionality reduction\n",
    "In Feature selection you just select a subset of the original feature set, without any manipulation of the data on the other hand.\n",
    "Dimensionality reduction is typically choosing a new representation within which you can describe most but not \n",
    "all of the variance within your data, thereby retaining the relevant information, while reducing the amount of \n",
    "information necessary to represent it."
   ]
  },
  {
   "cell_type": "raw",
   "id": "bb23a159-900a-4674-998c-61ed8c1091f0",
   "metadata": {},
   "source": [
    "4. Make quick notes on any two of the following ?\n",
    "The histogram\n",
    "A Histogram is a graphical representation that organizes a group of data points into user-specified ranges. \n",
    "Similar in appearance to a bar graph, the histogram condenses a data series into an easily interpreted visua\n",
    "l by taking many data points and grouping them into logical ranges or bins.\n",
    "\n",
    "Use a scatter plot\n",
    "A scatter plot (aka scatter chart, scatter graph) uses dots to represent values for two different numeric variables. \n",
    "The position of each dot on the horizontal and vertical axis indicates values for an individual data point. \n",
    "Scatter plots are used to observe relationships between variables.\n",
    "\n",
    "PCA (Personal Computer Aid)\n",
    "Principal Component Analysis or PCA is a widely used technique for dimensionality reduction of the large data set. \n",
    "Reducing the number of components or features costs some accuracy and on the other hand, it makes the large data set simpler, \n",
    "easy to explore and visualize."
   ]
  },
  {
   "cell_type": "raw",
   "id": "d4506066-8bbe-4479-879a-8cdb2be12151",
   "metadata": {},
   "source": [
    "5. Why is it necessary to investigate data? Is there a discrepancy in how qualitative and quantitative\n",
    "data are explored ?\n",
    "\n",
    "Ans: If your data set is messy, building models will not help you to solve your problem. What will happen is Garbage In,\n",
    "Garbage Out. In order to build a powerful machine learning algorithm. We need to explore and understand our data set\n",
    "before we define a predictive task and solve it."
   ]
  },
  {
   "cell_type": "raw",
   "id": "3c12cffb-1c92-40f3-bb6a-cb3070d390b3",
   "metadata": {},
   "source": [
    "6. What are the various histogram shapes? What exactly are ‘bins' ?\n",
    "\n",
    "Ans: The different types of a Histogram are:\n",
    "Uniform Histogram\n",
    "Symmetric Histogram\n",
    "Bimodal Histogram\n",
    "Probability Histogram.\n",
    "The bin in a histogram is the choice of unit and spacing on the X-axis. All the data in a probability distribution\n",
    "represented visually by a histogram is filled into the corresponding bins. The height of each bin is a measurement of the\n",
    "frequency with which data appears inside the range of that bin in the distribution."
   ]
  },
  {
   "cell_type": "raw",
   "id": "2b1fb345-d4d7-4891-95dd-6b0415e0a2a5",
   "metadata": {},
   "source": [
    "7. How do we deal with data outliers ?\n",
    "\n",
    "Ans: Z-Score: This can be done with just one line code as we have already calculated the Z-score.\n",
    "boston_df_o = boston_df_o[(z < 3).all(axis=1)]\n",
    "\n",
    "Univariate Method: This method looks for data points with extreme values on one variable.\n",
    "\n",
    "Multivariate Method: Here, we look for unusual combinations of all the variables.\n",
    "\n",
    "Minkowski Error: This method reduces the contribution of potential outliers in the training process."
   ]
  },
  {
   "cell_type": "raw",
   "id": "1bc7ec2c-ea5a-4a8b-84e6-9209aca16c18",
   "metadata": {},
   "source": [
    "8. What are the various central inclination measures? Why does mean vary too much from median in certain data sets ?\n",
    "\n",
    "Ans: Mean, Median and Mode are Central Inclination Measures. Mean varies more than Median due to presence of outliers, \n",
    "as mean is averaging all points while median in like finding a middle number."
   ]
  },
  {
   "cell_type": "raw",
   "id": "66b02172-b820-49a3-8ab4-f6be71b3b840",
   "metadata": {},
   "source": [
    "9. Describe how a scatter plot can be used to investigate bivariate relationships. Is it possible to find outliers using a scatter plot ?\n",
    "\n",
    "Ans: A Scatter Plot (aka scatter chart, scatter graph) uses dots to represent values for two different numeric variables. \n",
    "The position of each dot on the horizontal and vertical axis indicates values for an individual data point. \n",
    "So this visualization gives us the idea of bivariate relationship.\n",
    "\n",
    "Scatter plot can also help finding outliers as outliers can be visualized at farther distance than regular data."
   ]
  },
  {
   "cell_type": "raw",
   "id": "975b50a9-d880-432d-a6a2-1f2134619a86",
   "metadata": {},
   "source": [
    "10. Describe how cross-tabs can be used to figure out how two variables are related ?\n",
    "\n",
    "Ans: Cross tabulation is a method to quantitatively analyze the relationship between multiple variables. \n",
    "Also known as contingency tables or cross tabs, cross tabulation groups variables to understand the correlation \n",
    "between different variables. It also shows how correlations change from one variable grouping to another."
   ]
  },
  {
   "cell_type": "code",
   "execution_count": null,
   "id": "3557916d-29f7-4dc4-8695-862d011ac94e",
   "metadata": {},
   "outputs": [],
   "source": []
  }
 ],
 "metadata": {
  "kernelspec": {
   "display_name": "Python 3 (ipykernel)",
   "language": "python",
   "name": "python3"
  },
  "language_info": {
   "codemirror_mode": {
    "name": "ipython",
    "version": 3
   },
   "file_extension": ".py",
   "mimetype": "text/x-python",
   "name": "python",
   "nbconvert_exporter": "python",
   "pygments_lexer": "ipython3",
   "version": "3.10.6"
  }
 },
 "nbformat": 4,
 "nbformat_minor": 5
}
