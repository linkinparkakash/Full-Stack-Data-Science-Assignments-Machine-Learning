{
 "cells": [
  {
   "cell_type": "markdown",
   "id": "8c373823-216b-41d8-9b9a-4d7e5541d07c",
   "metadata": {},
   "source": [
    "Machine Learning Assignment 3"
   ]
  },
  {
   "cell_type": "code",
   "execution_count": 1,
   "id": "ddb2e3c7-fce4-4872-a11b-a25d97360dca",
   "metadata": {},
   "outputs": [],
   "source": [
    "# 1.Explain the term machine learning, and how does it work? Explain two machine learning\n",
    "# applications in the business world. What are some of the ethical concerns that machine learning\n",
    "# applications could raise?\n",
    "\n",
    "# Ans. Machine learning is a tool for machinee to read the data in such a way so that it can learn some patterns\n",
    "# and make some predictions or decisions based on it. \n",
    "\n",
    "# It recognizes some patters based on the training datasets that is fed to it and then it can provide outputs with similar features.\n",
    "\n",
    "# Macchine learning is used as a recommendation systems that we see on webistes such as amazon, facebooks etc. If we search\n",
    "# for some specific products, the algorithms learn from it and pop ads based on the search patterns. Another usecase is \n",
    "# the classic spam ham classifier or the phoshong domain classifier that can catch spam texts and malicious websites respectively.\n",
    "\n",
    "# Some ethical concerns about ML is that, there is alot going on about the data or privacy being compromised in the name of \n",
    "# personalized experience in our devices or ads, we hear alot about people talking about that they were just talking about\n",
    "# some car or some dress and suddenly they are getting ads based on what they were talking, not even searching, so some \n",
    "# people freak out that their privacy is being voilated and so. This raises some concerns."
   ]
  },
  {
   "cell_type": "code",
   "execution_count": 1,
   "id": "c7e4cb8c-51c1-4503-8c0d-bbbbc5dfca97",
   "metadata": {},
   "outputs": [],
   "source": [
    "# 2. Describe the process of human learning:\n",
    "\n",
    "# Ans: The process of human learning is somewhat different than that of a machine, since there are certain things \n",
    "# that are quite different, it starts from the very birth in a way, the human is constantly learning \n",
    "# so many things, whether it's walking, language, understanding emotions and all, but if we talk about some specific tasks such as \n",
    "# identifying some time series data and identifying objects, a machine can do the same and way faster than a human in terms of \n",
    "# calculation.\n",
    "\n",
    "# i. Under the supervision of experts\n",
    "    # Ans: Under supervision, a person may be able to learn better and faster generally, but it depends upon various factors\n",
    "    # such as the supervisor and of course the way of teaching and learning and various other factors.\n",
    "\n",
    "# ii. With the assistance of experts in an indirect manner\n",
    "    # This way the person will be able learn the tasks in their own way with indirect help from the experts but again depends\n",
    "    # upon various other factors such as the human ability to learn which is different from each other.\n",
    "\n",
    "\n",
    "# iii. Self-education\n",
    "    # That's one wonderful way to learn your own way, my personal favourite, of course has some limitations for alot of poeple\n",
    "    # a person can learn at their own pace, way, their own routine which is both very convinient but at the same time can be a problem\n",
    "    # since a whole lot of people who start self educating themselves tends to get discouraged or taken over by laziness."
   ]
  },
  {
   "cell_type": "code",
   "execution_count": 2,
   "id": "5442d052-f6a3-44a8-89c2-4835de074c0f",
   "metadata": {},
   "outputs": [],
   "source": [
    "# 3. Provide a few examples of various types of machine learning.\n",
    "\n",
    "# Ans: Supervised learning: Predicting house prices using regressoin.\n",
    "# Unsupervised: Dimensionality reduction and clustering in unlabbeled data such as phishing website detector.\n",
    "# Reinforcement learning: A robot trying to learn to walk on a terrain."
   ]
  },
  {
   "cell_type": "code",
   "execution_count": 3,
   "id": "3304fdf4-f1da-4abb-b5f3-6d62b206196d",
   "metadata": {},
   "outputs": [],
   "source": [
    "# 4. Examine the various forms of machine learning.\n",
    "\n",
    "# Supervised leanring, where there are given labels, unsupervised when labels are not given, reinforcement learning when \n",
    "# it is about learning the optimal behavior in an environment to obtain maximum reward."
   ]
  },
  {
   "cell_type": "code",
   "execution_count": 4,
   "id": "546c73f3-d74c-495c-a083-316b233bc691",
   "metadata": {},
   "outputs": [],
   "source": [
    "# 5. Can you explain what a well-posed learning problem is? Explain the main characteristics that must\n",
    "# be present to identify a learning problem properly.\n",
    "\n",
    "# Ans: if a solution to it exists, if that solution is unique, and if that solution depends on the data / experience\n",
    "# but it is not sensitive to (reasonably small) changes in the data / experience."
   ]
  },
  {
   "cell_type": "code",
   "execution_count": 5,
   "id": "36d3766e-f236-47ac-96d4-d14fabf6d2bf",
   "metadata": {},
   "outputs": [],
   "source": [
    "# 6. Is machine learning capable of solving all problems? Give a detailed explanation of your answer.\n",
    "\n",
    "# Ans: It depends upon what exactly the aim of using machine learning is, in general terms, of course machine cannot \n",
    "# do all the work, someone still has to write a code, someone still has to figure ourt the requirement of the people\n",
    "# Maybe in some distant future, everything will be automated, which is already happening, but it still has a long\n",
    "# way to go. A machine cannot comprehend the human emotion or at least not entirely,\n",
    "# machine can be trained to do so in a limited way, but still, it has to draw the line at some point\n",
    "# because it cannot be programmed with current technology.\n",
    "# There is a certain level of intellect that only a human has."
   ]
  },
  {
   "cell_type": "code",
   "execution_count": 6,
   "id": "b0167ed2-8ce8-4895-bdc1-e2e40ce4441e",
   "metadata": {},
   "outputs": [],
   "source": [
    "# 7. What are the various methods and technologies for solving machine learning problems? Any two\n",
    "# of them should be defined in detail.\n",
    "\n",
    "# Ans: We have sklearn and hugging face to make our lives easier, we can identify the problem and start \n",
    "# experimenting with various algorithms that exists in the scikit learn library or make use of \n",
    "# a combination of various algorithms depends upon the type of problem and dataset and how it is intended to be used.\n",
    "# hugging face has very well made documentations for their codes."
   ]
  },
  {
   "cell_type": "code",
   "execution_count": 8,
   "id": "d5678ee2-32cc-4428-aa60-f2b49fb93c42",
   "metadata": {},
   "outputs": [],
   "source": [
    "# 8. Can you explain the various forms of supervised learning? Explain each one with an example application.\n",
    "\n",
    "# Ans: In supervised learning, models are trained using labelled dataset, where the model learns about each type of data. \n",
    "# Once the training process is completed, the model is tested on the basis of test data (a subset of the training set), \n",
    "# and then it predicts the output.\n",
    "\n",
    "# Regressoin: It can predict a continous value as per the dataset, for example, weight prediction by keeping certain\n",
    "# body details such as height, age, body fat percentage and all those stuff to make a prediction of weight.\n",
    "\n",
    "# Classification: There are 3 different kind of shapes in a dataset, such as square, trianlge and hexagon, based on features\n",
    "# such as number of sides and length, breadth, the machine can classify the output and predict whether it is a square or \n",
    "# rectanlge or something else."
   ]
  },
  {
   "cell_type": "code",
   "execution_count": 1,
   "id": "f1cbc41c-1a3d-4064-877b-48a566f95164",
   "metadata": {},
   "outputs": [],
   "source": [
    "# 9. What is the difference between supervised and unsupervised learning? With a sample application\n",
    "# in each region, explain the differences.\n",
    "\n",
    "# Ans: Supervised learning algorithms are trained using labeled data wheras unsupervised uses unlabbeled.\n",
    "# The goal of supervised learning is to train the model so that it can predict the output when it is given new data\n",
    "# whereas the goal of unsupervised learning is to find the hidden patterns and useful insights from the unknown dataset.\n",
    "\n",
    "# Supervised learning can be used for predicting sales in numbers whereas the unsupervised learning may be used \n",
    "# to identify patterns or factors affecting the sales if necessary features are provided."
   ]
  },
  {
   "cell_type": "code",
   "execution_count": 2,
   "id": "2ee84a92-461e-494a-af96-97315483314e",
   "metadata": {},
   "outputs": [],
   "source": [
    "# 10. Describe the machine learning process in depth.\n",
    "    # Ans: Collecting the data: Firstly, the dataset is created having as many useful features as possible.\n",
    "    \n",
    "    # Preprocessing the data: Then the dataset is cleaned or preprocessed, some usual tasks we perform are \n",
    "    # removing the imputing null values or simply drop them, discard not-so useful features, combine new features etc.\n",
    "    \n",
    "    # Analyzing the data: This is a complimentary step with the preprocessing (that's how I do it). I do the analyzing \n",
    "    # and preprocessing simultaneously to see how the data is structured and what exactly to do with the features.\n",
    "    \n",
    "    # Selecting model: Then we can select the model for the dataset, we can use sklearn library for the job to check \n",
    "    # which algorithm is performing well with the kind of dataset.\n",
    "    \n",
    "    # Training the model: After finding the appropriate model, we can train it.\n",
    "    \n",
    "    # Evaluating the model: The unseen data used is the testing set that you split our data into earlier.\n",
    "    # If testing was done on the same data which is used for training, you will not get an accurate measure,\n",
    "    # as the model is already used to the data, and finds the same patterns in it, as it previously did.\n",
    "    # This will give you disproportionately high accuracy. \n",
    "    \n",
    "    # Hyperparameter tuning: After evaluating, the parameters can be tuned to provide more refined results or it can be \n",
    "    # done in training phase as well.\n",
    "    \n",
    "    # Making predictions: Finally the model can be used for the task it was trained for.\n",
    "    \n",
    "# a. Make brief notes on any two of the following:\n",
    "\n",
    "# MATLAB is one of the most widely used programming languages.\n",
    "\n",
    "# ii. Deep learning applications in healthcare\n",
    "    # The deep learning has the ability to regenerate the real-time condition of the patients on the basis of raw data \n",
    "    # or from previous data of the patients. deep learning techniques used in EHR can allow physicians to analyze \n",
    "    # information and detect heart problems, determine the amount of glucose in a diabetic patient,\n",
    "    # interpret MRI's and CT scans with minor human supervision, to search for cancer cells and diagnose them.\n",
    "    \n",
    "# iii. Study of the market basket\n",
    "\n",
    "# iv. Linear regression (simple)\n",
    "    # Linear regression analysis is used to predict the value of a variable based on the value of another variable. \n",
    "    # The variable you want to predict is called the dependent variable. The variable you are using to\n",
    "    # predict the other variable's value is called the independent variable."
   ]
  },
  {
   "cell_type": "code",
   "execution_count": 3,
   "id": "ddf11897-07c6-4f26-addf-46fb844272fe",
   "metadata": {},
   "outputs": [],
   "source": [
    "# 11. Make a comparison between:-\n",
    "\n",
    "# 1. Generalization and abstraction\n",
    "    # Abstraction aims at simplifying the description of an entity while generalization looks for common properties\n",
    "    # among these abstractions.\n",
    "\n",
    "# 2. Learning that is guided and unsupervised\n",
    "    # Guided leaening has labels defined and unsupervised has not, it looks for patterns.\n",
    "\n",
    "# 3. Regression and classification\n",
    "    # Regression gives output in continous values whereas classification groups the output in categories."
   ]
  },
  {
   "cell_type": "code",
   "execution_count": null,
   "id": "486b3b74-967a-4337-856d-5d36b72dfd32",
   "metadata": {},
   "outputs": [],
   "source": []
  }
 ],
 "metadata": {
  "kernelspec": {
   "display_name": "Python 3 (ipykernel)",
   "language": "python",
   "name": "python3"
  },
  "language_info": {
   "codemirror_mode": {
    "name": "ipython",
    "version": 3
   },
   "file_extension": ".py",
   "mimetype": "text/x-python",
   "name": "python",
   "nbconvert_exporter": "python",
   "pygments_lexer": "ipython3",
   "version": "3.10.6"
  }
 },
 "nbformat": 4,
 "nbformat_minor": 5
}
