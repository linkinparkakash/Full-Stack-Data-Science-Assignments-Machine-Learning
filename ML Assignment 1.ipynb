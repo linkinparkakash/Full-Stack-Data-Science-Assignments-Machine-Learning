{
 "cells": [
  {
   "cell_type": "markdown",
   "id": "e33009e0-d087-40e6-8883-c13530c9adda",
   "metadata": {},
   "source": [
    "Machine Learning Assignment 1"
   ]
  },
  {
   "cell_type": "code",
   "execution_count": 1,
   "id": "2c8ddc17-5918-4d08-b291-6d6f20118cbe",
   "metadata": {},
   "outputs": [],
   "source": [
    "# 1. What does one mean by the term 'machine learning'?\n",
    "\n",
    "# Ans : Machine Learning is a subfield of Artificail Intelligence where the the machine can imitate\n",
    "# human intelligence. Using relevant data, it can take decisions, predictions, calculations like a humanm does but way faster."
   ]
  },
  {
   "cell_type": "code",
   "execution_count": 2,
   "id": "bd7dc2e3-4ebe-45d3-ae32-8f6be82af40c",
   "metadata": {},
   "outputs": [],
   "source": [
    "# 2.Can you think of 4 distinct types of issues where it shines?\n",
    "\n",
    "# Ans: Machine learning is great for problems whose solution requires a great deal of work or a long list of rules,\n",
    "# complex problems that are hard to get a solution of using a traditional method, fluctuating environments\n",
    "# and getting insights about complex problems and large data."
   ]
  },
  {
   "cell_type": "code",
   "execution_count": 3,
   "id": "1220c7c6-8a69-4ff3-b4ea-c9e6b2eea5f6",
   "metadata": {},
   "outputs": [],
   "source": [
    "# 3.What is a labeled training set, and how does it work?\n",
    "\n",
    "# Ans: It is a set of data that is used for training, based on some patterns of the dataset, the machine learns and trains\n",
    "# and eventually use it to make predictiions or inferences."
   ]
  },
  {
   "cell_type": "code",
   "execution_count": 5,
   "id": "9833a6b9-c95d-4dce-a75f-c1060b7ec6a1",
   "metadata": {},
   "outputs": [],
   "source": [
    "# 4.What are the two most important tasks that are supervised?\n",
    "\n",
    "# Ans: Classification and regression."
   ]
  },
  {
   "cell_type": "code",
   "execution_count": 6,
   "id": "5960bbc2-2a61-4213-8331-61d175684741",
   "metadata": {},
   "outputs": [],
   "source": [
    "# 5.Can you think of four examples of unsupervised tasks?\n",
    "\n",
    "# Ans: Clustering, dimenstionality reduction, association rule learning and visualization."
   ]
  },
  {
   "cell_type": "code",
   "execution_count": 7,
   "id": "5ef6bb18-afb2-44c2-a9f8-3bed4b112dae",
   "metadata": {},
   "outputs": [],
   "source": [
    "# 6.State the machine learning model that would be best to make a robot walk through various unfamiliar terrains?\n",
    "\n",
    "# Ans: The reinforced learning will be good so that the robot can learn from the terrain and optiomize itself."
   ]
  },
  {
   "cell_type": "code",
   "execution_count": 8,
   "id": "3be92bdb-2149-4b70-8f3c-c0f5dec3e670",
   "metadata": {},
   "outputs": [],
   "source": [
    "# 7.Which algorithm will you use to divide your customers into different groups? \n",
    "\n",
    "# Ans: If there are labels in the dataset, then the supervised learning can be used, unsupervised if there are no labels."
   ]
  },
  {
   "cell_type": "code",
   "execution_count": 9,
   "id": "9f65886c-e543-43eb-8524-08068a711647",
   "metadata": {},
   "outputs": [],
   "source": [
    "# 8.Will you consider the problem of spam detection to be a supervised or unsupervised learning problem?\n",
    "\n",
    "# Ans: Since the labels are known, it will be a supervised problem."
   ]
  },
  {
   "cell_type": "code",
   "execution_count": 11,
   "id": "f2a80006-443f-448b-a4fd-8e94ab0c1f78",
   "metadata": {},
   "outputs": [],
   "source": [
    "# 9.What is the concept of an online learning system?\n",
    "\n",
    "# Ans: In online learning, tbe data is given in small streams for learning."
   ]
  },
  {
   "cell_type": "code",
   "execution_count": 13,
   "id": "c54ae533-5bbe-4937-8d13-1e65135f0a70",
   "metadata": {},
   "outputs": [],
   "source": [
    "# 10.What is out-of-core learning, and how does it differ from core learning?\n",
    "\n",
    "# Ans: Where the computer or the local system's memory is not optimal or incapable of handling the data,\n",
    "# it uses the online system to feed the data."
   ]
  },
  {
   "cell_type": "code",
   "execution_count": 14,
   "id": "63dbbaa0-3fe2-4e0d-822f-e028474f3e7c",
   "metadata": {},
   "outputs": [],
   "source": [
    "# 11.What kind of learning algorithm makes predictions using a similarity measure?\n",
    "\n",
    "# Ans: Instance-based learning."
   ]
  },
  {
   "cell_type": "code",
   "execution_count": 15,
   "id": "73acbd18-9541-4853-be4d-208c058a4c60",
   "metadata": {},
   "outputs": [],
   "source": [
    "# 12.What's the difference between a model parameter and a hyperparameter in a learning algorithm?\n",
    "\n",
    "# Ans: Model parameter determines how a model will predict given a new instance; model usually has more than one parameter \n",
    "# like slope of a linear model. Hyperparameter is a parameter for the learning algorithm, not of a model."
   ]
  },
  {
   "cell_type": "code",
   "execution_count": 16,
   "id": "1d190f53-60d8-479c-baa7-7d1f30f3bcbf",
   "metadata": {},
   "outputs": [],
   "source": [
    "# 13.What are the criteria that model-based learning algorithms look for? What is the most popular\n",
    "# method they use to achieve success? What method do they use to make predictions?\n",
    "\n",
    "# Ans: Model based learning algorithm search for the optimal value of parameters in a model\n",
    "# that will give the best results for the new instances. We often use a cost function \n",
    "# or similar to determine what the parameter value has to be in order to minimize the function.\n",
    "# The model makes prediction by using the value of the new instance and the parameters in its function."
   ]
  },
  {
   "cell_type": "code",
   "execution_count": 18,
   "id": "483cae50-506b-4cff-a83e-28f008e3d22c",
   "metadata": {},
   "outputs": [],
   "source": [
    "# 14.Can you name four of the most important Machine Learning challenges?\n",
    "\n",
    "# Ans: overfitting the data (using a model too complicated), \n",
    "# underfitting the data (using a simple model), lacking in data and nonrepresentative data."
   ]
  },
  {
   "cell_type": "code",
   "execution_count": 19,
   "id": "f1e78c5f-6373-45de-bfdd-52c9f14fa26d",
   "metadata": {},
   "outputs": [],
   "source": [
    "# 15.What happens if the model performs well on the training data but fails to generalize the results\n",
    "# to new situations? Can you think of three different options?\n",
    "\n",
    "# Ans: It has overfit on the training data. To solve this, we can do any of the following three: \n",
    "# get more data, implement a simpler model, or eliminate outliers or noise from the existing data set."
   ]
  },
  {
   "cell_type": "code",
   "execution_count": 20,
   "id": "acb9c989-8fb9-404c-b567-14c706f2b38b",
   "metadata": {},
   "outputs": [],
   "source": [
    "# 16.What exactly is a test set, and why would you need one?\n",
    "\n",
    "# Ans: A test set is the dataset set same as training in terms of labels and patterns but diffrent values\n",
    "# It is used for testing the model for accuracy and predictions mainly after the model is done training. "
   ]
  },
  {
   "cell_type": "code",
   "execution_count": 21,
   "id": "dc45da4f-a67b-4c94-9e36-4c0c85eb2406",
   "metadata": {},
   "outputs": [],
   "source": [
    "# 17.What is a validation set's purpose?\n",
    "\n",
    "# Ans: It is used for training data with the goal of finding best and optimized model to solve the problem."
   ]
  },
  {
   "cell_type": "code",
   "execution_count": 22,
   "id": "f2b09cf6-0824-4877-bbd4-3c2096fe70a9",
   "metadata": {},
   "outputs": [],
   "source": [
    "# 18.What precisely is the train-dev kit, when will you need it, how do you put it to use?\n",
    "\n",
    "# Ans: The goal of dev-set is to rank the models in term of their accuracy and helps us decide which model to proceed further with. \n",
    "# Using Dev set we rank all our models in terms of their accuracy and pick the best performing model."
   ]
  },
  {
   "cell_type": "code",
   "execution_count": null,
   "id": "198f5765-6890-450e-8404-e8532055a804",
   "metadata": {},
   "outputs": [],
   "source": [
    "# 19.What could go wrong if you use the test set to tune hyperparameters?\n",
    "\n",
    "# Ans: "
   ]
  }
 ],
 "metadata": {
  "kernelspec": {
   "display_name": "Python 3 (ipykernel)",
   "language": "python",
   "name": "python3"
  },
  "language_info": {
   "codemirror_mode": {
    "name": "ipython",
    "version": 3
   },
   "file_extension": ".py",
   "mimetype": "text/x-python",
   "name": "python",
   "nbconvert_exporter": "python",
   "pygments_lexer": "ipython3",
   "version": "3.10.6"
  }
 },
 "nbformat": 4,
 "nbformat_minor": 5
}
