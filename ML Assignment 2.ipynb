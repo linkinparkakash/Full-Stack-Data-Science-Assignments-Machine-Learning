{
 "cells": [
  {
   "cell_type": "markdown",
   "id": "1ff37e7a-828e-4871-8973-464a4f151640",
   "metadata": {},
   "source": [
    "ML Assignment 2"
   ]
  },
  {
   "cell_type": "code",
   "execution_count": 1,
   "id": "a5aac4a8-d0ac-461d-8cd4-5b0dcc5584bb",
   "metadata": {},
   "outputs": [],
   "source": [
    "# 1. What is the concept of human learning? Please give two examples.\n",
    "\n",
    "# Ans: human learning is — observing something, identifying a pattern, building a theory (model).\n",
    "# Eg: Learning to ride a bike. Learning a language."
   ]
  },
  {
   "cell_type": "code",
   "execution_count": 2,
   "id": "27f7aaae-086c-46c8-8334-3d54cfa729b5",
   "metadata": {},
   "outputs": [],
   "source": [
    "# 2. What different forms of human learning are there? Are there any machine learning equivalents?\n",
    "\n",
    "# Ans: There are three main cognitive learning styles: visual, auditory, and kinesthetic.\n",
    "# The machine learning can do all these three but in a limited way."
   ]
  },
  {
   "cell_type": "code",
   "execution_count": 4,
   "id": "4eae4991-1c99-48c6-9bb8-b4c9589ce81a",
   "metadata": {},
   "outputs": [],
   "source": [
    "# 3. What is machine learning, and how does it work? What are the key responsibilities of machine learning?\n",
    "\n",
    "# Ans: Machine learning is a core sub-area of Artificial Intelligence (AI). \n",
    "# ML applications learn from experience (or to be accurate, data) like humans do without direct programming."
   ]
  },
  {
   "cell_type": "code",
   "execution_count": 1,
   "id": "a7e6caaa-0c06-45ff-8d37-6a2834300e4d",
   "metadata": {},
   "outputs": [],
   "source": [
    "# 4. Define the terms 'penalty' and 'reward' in the context of reinforcement learning.\n",
    "\n",
    "# Ans: If it makes the right move, it gets rewarded. If it makes a mistake, it receives a penalty."
   ]
  },
  {
   "cell_type": "code",
   "execution_count": 2,
   "id": "606dbcd7-ece1-4231-90dd-825d4a3b01bb",
   "metadata": {},
   "outputs": [],
   "source": [
    "# 5. Explain the term \"learning as a search\".\n",
    "\n",
    "# Ans: It can be viewed as the task of searching through a large space of hypotheses implicitly defined by the hypothesis representation. \n",
    "# The goal of this search is to find the hypothesis that best fits the training examples."
   ]
  },
  {
   "cell_type": "code",
   "execution_count": 3,
   "id": "b493e665-bfaf-4411-bdee-f29b5ffa86f7",
   "metadata": {},
   "outputs": [],
   "source": [
    "# 6. What are the various goals of machine learning? What is the relationship between these and human learning?\n",
    "\n",
    "# Ans: The goal of machine learning is often — though not always — to train a model on historical,\n",
    "# labelled data like data for which the outcome is known, in order to predict the value of some quantity \n",
    "# on the basis of a new data item for which the target value or classification is unknown.\n",
    "# There are various things where the machine learning can do quite similar things like a human does\n",
    "# Some classification, time series, NLP tasks or computervision tasks, a machine can be trained to \n",
    "# all these things like a human does but way faster, it is just the intellect that sets human apart."
   ]
  },
  {
   "cell_type": "code",
   "execution_count": 1,
   "id": "c4ea02cd-7af1-4860-bcf8-0ad9476f72f8",
   "metadata": {},
   "outputs": [],
   "source": [
    "# 7. Illustrate the various elements of machine learning using a real-life illustration.\n",
    "\n",
    "# Ans: There are various illustrations of ML like image recognition, voice recognition, predictive analytics,\n",
    "# medical diagnosis etc. \n",
    "# Real life illustration would be a manhole detector, we can use computer vision and train it to detect manholes on the roads."
   ]
  },
  {
   "cell_type": "code",
   "execution_count": 2,
   "id": "1a0e020f-85c4-4e63-a7f3-ad0eef17cff8",
   "metadata": {},
   "outputs": [],
   "source": [
    "# 8. Provide an example of the abstraction method.\n",
    "\n",
    "# Ans: Abstraction separates ideas from specific instances of those ideas. An abstract method is declared, but contains no implementation. \n",
    "# Abstract classes cannot be instantiated, and require subclasses to provide implementations for the abstract methods."
   ]
  },
  {
   "cell_type": "code",
   "execution_count": 3,
   "id": "638916b4-8c60-4cc2-acce-cbe5a79c5c7d",
   "metadata": {},
   "outputs": [],
   "source": [
    "# 9. What is the concept of generalization? What function does it play in the machine learning process?\n",
    "\n",
    "# Ans: Generalization refers to your model's ability to adapt properly to new, previously unseen data, \n",
    " # drawn from the same distribution as the one used to create the model."
   ]
  },
  {
   "cell_type": "code",
   "execution_count": 4,
   "id": "ad9c3110-f79c-42e0-8d06-160fc77e1629",
   "metadata": {},
   "outputs": [],
   "source": [
    "# 10. What is classification, exactly? What are the main distinctions between classification and regression?\n",
    "\n",
    "# Ans: Classification referes to the basically grouping of the output based on certain patterns.\n",
    "# Classification gives output in discrete class labels whereas regression gives output in continous values.\n",
    "# for example, body attributes dataset for weight predictions, regression can predict the actual weight of a person\n",
    "# whereas classification can group people in categories of underweight, normal or overweight."
   ]
  },
  {
   "cell_type": "code",
   "execution_count": 7,
   "id": "5777ae9a-f55e-4d79-b76e-71055d1022ab",
   "metadata": {},
   "outputs": [],
   "source": [
    "# 11. What is regression, and how does it work? Give an example of a real-world problem that was solved using regression.\n",
    "\n",
    "# Ans: A regression is a statistical technique that relates a dependent variable to one or more independent (explanatory) variables.\n",
    "# A regression model is able to show whether changes observed in the dependent variable are associated with changes\n",
    "# in one or more of the explanatory variables.\n",
    "# A real life problem would be to predict house pricing, which is also a classic ML beginner regression problem."
   ]
  },
  {
   "cell_type": "code",
   "execution_count": 8,
   "id": "cef0bd10-2712-4ff5-91ee-855839adbea1",
   "metadata": {},
   "outputs": [],
   "source": [
    "# 12. Describe the clustering mechanism in detail.\n",
    "\n",
    "# Ans: Clustering is the task of dividing the population or data points into a number of groups such that data points\n",
    "# in the same groups are more similar to other data points in the same group and dissimilar to the data points in other groups."
   ]
  },
  {
   "cell_type": "code",
   "execution_count": 10,
   "id": "1b3974d6-8b10-4202-abcf-3221eabf18b8",
   "metadata": {},
   "outputs": [],
   "source": [
    "# 13. Make brief observations on two of the following topics:\n",
    "# i. Machine learning algorithms are used\n",
    "# ii. Studying under supervision\n",
    "# iii. Studying without supervision\n",
    "# iv. Reinforcement learning is a form of learning based on positive reinforcement.\n",
    "\n",
    "# Ans: (i) Machine learning algorithms use historical data as input to predict new output values. \n",
    "# Recommendation engines are a common use case for machine learning. Other popular uses include fraud detection, \n",
    "# spam filtering, malware threat detection, business process automation (BPA) and Predictive maintenance.\n",
    "\n",
    "# (ii) Basically supervised learning is when we teach or train the machine using data that is well labelled.\n",
    "\n",
    "# (iii) Unsupervised learning is a type of algorithm that learns patterns from untagged data. \n",
    "# The hope is that through mimicry, which is an important mode of learning in people, \n",
    "# the machine is forced to build a concise representation of its world and then generate imaginative content from it.\n",
    "\n",
    "# (iv) This is because if the training data has reward and penalty thing, where if it makes the right moves, it will\n",
    "# get rewarded but will get penalty if it makes a mistake, it is important for the reinforced learning to have \n",
    "# positive data to train with so that it can learn better."
   ]
  },
  {
   "cell_type": "code",
   "execution_count": null,
   "id": "5b673639-0c09-4739-9859-54e09c84351c",
   "metadata": {},
   "outputs": [],
   "source": []
  }
 ],
 "metadata": {
  "kernelspec": {
   "display_name": "Python 3 (ipykernel)",
   "language": "python",
   "name": "python3"
  },
  "language_info": {
   "codemirror_mode": {
    "name": "ipython",
    "version": 3
   },
   "file_extension": ".py",
   "mimetype": "text/x-python",
   "name": "python",
   "nbconvert_exporter": "python",
   "pygments_lexer": "ipython3",
   "version": "3.10.6"
  }
 },
 "nbformat": 4,
 "nbformat_minor": 5
}
